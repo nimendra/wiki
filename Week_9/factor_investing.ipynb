{
 "cells": [
  {
   "cell_type": "code",
   "execution_count": 2,
   "metadata": {},
   "outputs": [],
   "source": [
    "import pandas as pd\n",
    "import numpy as np\n",
    "import matplotlib.pyplot as plt\n",
    "import seaborn as sns\n",
    "from scipy import stats"
   ]
  },
  {
   "cell_type": "code",
   "execution_count": 6,
   "metadata": {},
   "outputs": [
    {
     "name": "stdout",
     "output_type": "stream",
     "text": [
      "   PERMNO      date      PRC       RET     SHROUT  year\n",
      "0   10001  20020131  11.3000 -0.013100  2566000.0  2002\n",
      "1   10001  20020228  10.7000 -0.053097  2569000.0  2002\n",
      "2   10001  20020328  10.4000 -0.015888  2571000.0  2002\n",
      "3   10001  20020430   9.9500 -0.043269  2571000.0  2002\n",
      "4   10001  20020531  10.0975  0.014824  2571000.0  2002\n",
      "10674\n",
      "             PERMNO          date            PRC            RET        SHROUT  \\\n",
      "count  1.005040e+06  1.005040e+06  998010.000000  992894.000000  1.004039e+06   \n",
      "mean   6.397102e+04  2.010890e+07      71.005103       0.011047  1.124898e+08   \n",
      "std    2.999603e+04  5.874322e+04    3105.532997       0.183513  4.416489e+08   \n",
      "min    1.000100e+04  2.002013e+07       0.010500      -0.993600  9.000000e+03   \n",
      "25%    3.298600e+04  2.006023e+07       5.800000      -0.062370  1.337500e+07   \n",
      "50%    7.973100e+04  2.010113e+07      15.650000       0.003856  3.152100e+07   \n",
      "75%    8.761200e+04  2.016053e+07      32.820000       0.069640  7.432000e+07   \n",
      "max    9.343600e+04  2.021123e+07  450662.000000      19.883589  2.920640e+10   \n",
      "\n",
      "               year  \n",
      "count  1.005040e+06  \n",
      "mean   2.010822e+03  \n",
      "std    5.873872e+00  \n",
      "min    2.002000e+03  \n",
      "25%    2.006000e+03  \n",
      "50%    2.010000e+03  \n",
      "75%    2.016000e+03  \n",
      "max    2.021000e+03  \n",
      "Total rows 1,005,040\n"
     ]
    },
    {
     "data": {
      "image/png": "[encoded data removed]",
      "text/plain": [
       "<Figure size 1000x600 with 1 Axes>"
      ]
     },
     "metadata": {},
     "output_type": "display_data"
    }
   ],
   "source": [
    "# Load and prepare data\n",
    "factordata = pd.read_csv(\"factorinvestingdata.csv\")\n",
    "factordata = factordata.iloc[:, 1:]  # Remove the first column\n",
    "print(factordata.head())\n",
    "print(len(factordata['PERMNO'].unique()))  # Number of stocks\n",
    "print(factordata.describe())\n",
    "print(\"Total rows\", f\"{len(factordata['PERMNO']):,.0f}\")  # Number of rows\n",
    "\n",
    "# Number of stocks each month\n",
    "factordata['year'] = factordata['date'].astype(str).str[:4].astype(int)\n",
    "stockno = factordata.groupby('year')['PERMNO'].nunique().reset_index(name='stockno')\n",
    "\n",
    "plt.figure(figsize=(10, 6))\n",
    "plt.bar(stockno['year'], stockno['stockno'])\n",
    "plt.title(\"Number of Stocks\")\n",
    "plt.xlabel(\"Year\")\n",
    "plt.ylabel(\"Number of Stocks\")\n",
    "plt.show()"
   ]
  },
  {
   "cell_type": "code",
   "execution_count": null,
   "metadata": {},
   "outputs": [],
   "source": [
    "# Constructing factor signals\n",
    "factordata = factordata.dropna(subset=['RET'])\n",
    "factordata['mktcap'] = factordata['PRC'] * factordata['SHROUT']\n",
    "factordata = factordata.sort_values(['PERMNO', 'date'])\n",
    "\n",
    "def rolling_prod(x, window):\n",
    "    return x.rolling(window=window, min_periods=1).apply(lambda x: np.prod(1 + x) - 1)\n",
    "\n",
    "factordata['pastreturn'] = factordata.groupby('PERMNO')['RET'].transform(lambda x: rolling_prod(x, 11))\n",
    "factordata['lmktcap'] = factordata.groupby('PERMNO')['mktcap'].shift(1)\n",
    "factordata['lpastreturn'] = factordata.groupby('PERMNO')['pastreturn'].shift(1)\n",
    "factordata['lprice'] = factordata.groupby('PERMNO')['PRC'].shift(1)\n",
    "\n",
    "factordata['retrank'] = factordata.groupby('date')['lpastreturn'].transform(lambda x: pd.qcut(x, 10, labels=False, duplicates='drop') + 1)\n",
    "factordata['sizerank'] = factordata.groupby('date')['lmktcap'].transform(lambda x: pd.qcut(x, 10, labels=False, duplicates='drop') + 1)\n",
    "\n",
    "print(factordata[['PERMNO', 'date', 'RET', 'lpastreturn', 'lmktcap', 'retrank', 'sizerank']].head(10))\n",
    "\n",
    "# Calculating factor returns\n",
    "def factor_returns(group):\n",
    "    return pd.Series({\n",
    "        'Large': group[group['sizerank'] == 10]['RET'].mean(),\n",
    "        'Small': group[group['sizerank'] == 1]['RET'].mean(),\n",
    "        'Winner': group[(group['retrank'] == 10) & (group['lprice'] >= 2)]['RET'].mean(),\n",
    "        'Loser': group[(group['retrank'] == 1) & (group['lprice'] >= 2)]['RET'].mean(),\n",
    "        'Market': group['RET'].mean()\n",
    "    })\n",
    "\n",
    "factorreturn = factordata.groupby('date').apply(factor_returns).reset_index()\n",
    "factorreturn['Size'] = factorreturn['Small'] - factorreturn['Large']\n",
    "factorreturn['Momentum'] = factorreturn['Winner'] - factorreturn['Loser']\n",
    "\n",
    "longformat = pd.melt(factorreturn, id_vars=['date'], var_name='Factors', value_name='value')\n",
    "factorperformance = longformat.groupby('Factors').agg({\n",
    "    'value': ['mean', 'std']\n",
    "}).reset_index()\n",
    "factorperformance.columns = ['Factors', 'Mean', 'Volatility']\n",
    "factorperformance['T_stat'] = factorperformance.apply(lambda row: stats.ttest_1samp(longformat[longformat['Factors'] == row['Factors']]['value'].dropna(), 0)[0], axis=1)\n",
    "\n",
    "print(factorperformance.head(7))\n",
    "\n",
    "# Cumulative factor performance over time\n",
    "factorreturn['date'] = pd.to_datetime(factorreturn['date'], format='%Y%m%d')\n",
    "xtsdata = factorreturn.set_index('date')\n",
    "xtsdata['Momentum'] = (1 + xtsdata['Momentum']).cumprod()\n",
    "xtsdata['Size'] = (1 + xtsdata['Size']).cumprod()\n",
    "xtsdata['Market'] = (1 + xtsdata['Market']).cumprod()\n",
    "\n",
    "plt.figure(figsize=(12, 6))\n",
    "plt.plot(xtsdata.index, xtsdata['Momentum'], label='Momentum')\n",
    "plt.plot(xtsdata.index, xtsdata['Market'], label='Market')\n",
    "plt.title(\"Momentum vs. Market\")\n",
    "plt.ylabel(\"Dollar Investment Return\")\n",
    "plt.legend()\n",
    "plt.show()\n",
    "\n",
    "plt.figure(figsize=(12, 6))\n",
    "plt.plot(xtsdata.index, xtsdata['Size'], label='Size')\n",
    "plt.plot(xtsdata.index, xtsdata['Market'], label='Market')\n",
    "plt.title(\"Size vs. Market\")\n",
    "plt.ylabel(\"Dollar Investment Return\")\n",
    "plt.legend()\n",
    "plt.show()"
   ]
  }
 ],
 "metadata": {
  "kernelspec": {
   "display_name": ".venv",
   "language": "python",
   "name": "python3"
  },
  "language_info": {
   "codemirror_mode": {
    "name": "ipython",
    "version": 3
   },
   "file_extension": ".py",
   "mimetype": "text/x-python",
   "name": "python",
   "nbconvert_exporter": "python",
   "pygments_lexer": "ipython3",
   "version": "3.12.5"
  }
 },
 "nbformat": 4,
 "nbformat_minor": 2
}
