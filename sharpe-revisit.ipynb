{
 "cells": [
  {
   "cell_type": "code",
   "execution_count": 1,
   "metadata": {},
   "outputs": [
    {
     "ename": "ModuleNotFoundError",
     "evalue": "No module named 'pandas'",
     "output_type": "error",
     "traceback": [
      "\u001b[0;31m---------------------------------------------------------------------------\u001b[0m",
      "\u001b[0;31mModuleNotFoundError\u001b[0m                       Traceback (most recent call last)",
      "Cell \u001b[0;32mIn[1], line 1\u001b[0m\n\u001b[0;32m----> 1\u001b[0m \u001b[38;5;28;01mimport\u001b[39;00m \u001b[38;5;21;01mpandas\u001b[39;00m \u001b[38;5;28;01mas\u001b[39;00m \u001b[38;5;21;01mpd\u001b[39;00m\n\u001b[1;32m      2\u001b[0m \u001b[38;5;28;01mimport\u001b[39;00m \u001b[38;5;21;01mnumpy\u001b[39;00m \u001b[38;5;28;01mas\u001b[39;00m \u001b[38;5;21;01mnp\u001b[39;00m\n",
      "\u001b[0;31mModuleNotFoundError\u001b[0m: No module named 'pandas'"
     ]
    }
   ],
   "source": [
    "import pandas as pd\n",
    "import numpy as np\n"
   ]
  },
  {
   "cell_type": "markdown",
   "metadata": {},
   "source": [
    "### About `annual_return = (1 + df['Cumulative_Return'].iloc[-1]) ** (252 / len(df)) - 1`\n",
    "\n",
    "1. `df['Cumulative_Return'].iloc[-1]`: This selects the last value in the 'Cumulative_Return' column, which represents the total return over the entire period.\n",
    "\n",
    "2. `(1 + df['Cumulative_Return'].iloc[-1])`: We add 1 to the cumulative return to get the total growth factor.\n",
    "\n",
    "3. `** (252 / len(df))`: This is the key part for annualization. Here's what's happening:\n",
    "   - 252 represents the typical Australian number of trading days in a year.\n",
    "   - `len(df)` is the number of days in our dataset.\n",
    "   - The ratio `252 / len(df)` converts our period to an annual basis.\n",
    "   - Raising the total growth factor to this power annualizes the return.\n",
    "\n",
    "4. `- 1`: We subtract 1 at the end to convert from a growth factor back to a return.\n",
    "\n",
    "The formula is essentially:\n",
    "annual_return = (1 + total_return)^(years) - 1\n",
    "\n",
    "Where 'years' is calculated as (252 / number of days in the dataset).\n",
    "\n",
    "This calculation assumes compound growth and adjusts for the actual number of days in the dataset to provide an annualized return rate. It's a standard method for comparing returns over different time periods on an annual basis.\n",
    "\n",
    "For example, if your cumulative return over 126 days (half a year) was 10%:\n",
    "annual_return = (1 + 0.10)^(252/126) - 1 = 0.21 or 21%\n",
    "\n",
    "This shows that a 10% return over half a year is equivalent to a 21% annual return, assuming the same growth rate continues."
   ]
  },
  {
   "cell_type": "code",
   "execution_count": null,
   "metadata": {},
   "outputs": [],
   "source": [
    "# Create sample data\n",
    "dates = pd.date_range(start='2023-01-01', end='2023-12-31', freq='D')\n",
    "np.random.seed(42)  # for reproducibility\n",
    "returns = np.random.normal(0.0005, 0.01, len(dates))  # Daily returns\n",
    "\n",
    "# Create a DataFrame\n",
    "df = pd.DataFrame({\n",
    "    'Date': dates,\n",
    "    'Daily_Return': returns\n",
    "})\n",
    "\n",
    "# Set Date as index\n",
    "df.set_index('Date', inplace=True)\n",
    "print(\"[DEBUG] original df.tail()\",df.tail())\n",
    "\n",
    "# Calculate cumulative returns\n",
    "df['Cumulative_Return'] = (1 + df['Daily_Return']).cumprod() - 1\n",
    "print(\"[DEBUG] df.tail() after cumprod\",df.tail())\n",
    "\n",
    "# Calculate annualised return\n",
    "annual_return = (1 + df['Cumulative_Return'].iloc[-1]) ** (252 / len(df)) - 1\n",
    "print(\"[DEBUG] df['Cumulative_Return'].iloc[-1]: \", df['Cumulative_Return'].iloc[-1], \"[DEBUG] 252/len(df): \",252/len(df))\n",
    "\n",
    "# Calculate annualised volatility (standard deviation)\n",
    "annual_volatility = df['Daily_Return'].std() * np.sqrt(252)\n",
    "\n",
    "# Set risk-free rate (assuming 2% annual rate)\n",
    "# Research on how this value is chosen, eg. it's based of treasury bills\n",
    "risk_free_rate = 0.02\n",
    "\n",
    "# Calculate Sharpe Ratio\n",
    "sharpe_ratio = (annual_return - risk_free_rate) / annual_volatility\n",
    "\n",
    "# Print results\n",
    "print(f\"Annualized Return: {annual_return:.2%}\")\n",
    "print(f\"Annualized Volatility: {annual_volatility:.2%}\")\n",
    "print(f\"Sharpe Ratio: {sharpe_ratio:.4f}\")\n",
    "\n",
    "# Plot cumulative returns\n",
    "import matplotlib.pyplot as plt\n",
    "\n",
    "plt.figure(figsize=(10, 6))\n",
    "df['Cumulative_Return'].plot(label=f'Cumulative Return\\nSharpe Ratio: {sharpe_ratio:.4f}')\n",
    "plt.title('Cumulative Returns with Sharpe Ratio')\n",
    "# plt.title('Cumulative Returns Over Time')\n",
    "plt.xlabel('Date')\n",
    "plt.ylabel('Cumulative Return')\n",
    "plt.show()"
   ]
  }
 ],
 "metadata": {
  "kernelspec": {
   "display_name": ".venv",
   "language": "python",
   "name": "python3"
  },
  "language_info": {
   "codemirror_mode": {
    "name": "ipython",
    "version": 3
   },
   "file_extension": ".py",
   "mimetype": "text/x-python",
   "name": "python",
   "nbconvert_exporter": "python",
   "pygments_lexer": "ipython3",
   "version": "3.12.5"
  }
 },
 "nbformat": 4,
 "nbformat_minor": 2
}
