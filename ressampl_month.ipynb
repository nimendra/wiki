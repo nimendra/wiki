{
 "cells": [
  {
   "cell_type": "code",
   "execution_count": 2,
   "metadata": {},
   "outputs": [
    {
     "name": "stdout",
     "output_type": "stream",
     "text": [
      "2023-01-01    0.286245\n",
      "2023-01-02   -1.330065\n",
      "2023-01-03   -0.671621\n",
      "2023-01-04    1.286990\n",
      "2023-01-05    1.507661\n",
      "Freq: D, dtype: float64\n",
      "2023-01-31   -0.322318\n",
      "2023-02-28   -0.110630\n",
      "2023-03-31   -0.902756\n",
      "2023-04-30    0.144380\n",
      "2023-05-31   -0.448469\n",
      "Freq: ME, dtype: float64\n"
     ]
    },
    {
     "name": "stderr",
     "output_type": "stream",
     "text": [
      "/var/folders/lh/vw2nf5717q56sg8fpmt0361c0000gn/T/ipykernel_84244/1185845201.py:10: FutureWarning: 'M' is deprecated and will be removed in a future version, please use 'ME' instead.\n",
      "  monthly_data = data.resample('M').last()\n"
     ]
    }
   ],
   "source": [
    "import pandas as pd\n",
    "import numpy as np\n",
    "\n",
    "# Create a sample daily dataset\n",
    "date_range = pd.date_range(start='2023-01-01', end='2023-12-31', freq='D')\n",
    "data = pd.Series(np.random.randn(len(date_range)), index=date_range)\n",
    "print(data.head())\n",
    "\n",
    "# Resample to month-end frequency\n",
    "monthly_data = data.resample('M').last()\n",
    "\n",
    "print(monthly_data.head())"
   ]
  },
  {
   "cell_type": "code",
   "execution_count": 4,
   "metadata": {},
   "outputs": [
    {
     "data": {
      "text/plain": [
       "2023-01-31    5\n",
       "Freq: ME, dtype: int64"
      ]
     },
     "execution_count": 4,
     "metadata": {},
     "output_type": "execute_result"
    }
   ],
   "source": [
    "# Original daily data\n",
    "data = pd.Series([1,2,3,4,5], index=pd.date_range('2023-01-01', periods=5, freq='D'))\n",
    "\n",
    "# Resample to month end\n",
    "monthly = data.resample('ME').mean()\n",
    "monthly = data.resample('ME').last()\n",
    "\n",
    "monthly"
   ]
  }
 ],
 "metadata": {
  "kernelspec": {
   "display_name": ".venv",
   "language": "python",
   "name": "python3"
  },
  "language_info": {
   "codemirror_mode": {
    "name": "ipython",
    "version": 3
   },
   "file_extension": ".py",
   "mimetype": "text/x-python",
   "name": "python",
   "nbconvert_exporter": "python",
   "pygments_lexer": "ipython3",
   "version": "3.12.5"
  }
 },
 "nbformat": 4,
 "nbformat_minor": 2
}
